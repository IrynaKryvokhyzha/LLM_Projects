{
 "cells": [
  {
   "cell_type": "markdown",
   "metadata": {},
   "source": [
    "Conversation between GPT, Claude and Gemini...."
   ]
  },
  {
   "cell_type": "code",
   "execution_count": 99,
   "metadata": {},
   "outputs": [],
   "source": [
    "# imports\n",
    "\n",
    "import os\n",
    "from dotenv import load_dotenv\n",
    "from openai import OpenAI\n",
    "import anthropic\n",
    "from IPython.display import Markdown, display, update_display\n",
    "import google.generativeai"
   ]
  },
  {
   "cell_type": "code",
   "execution_count": 100,
   "metadata": {},
   "outputs": [
    {
     "name": "stdout",
     "output_type": "stream",
     "text": [
      "OpenAI API Key exists and begins sk-proj-\n",
      "Anthropic API Key exists and begins sk-ant-a\n",
      "Google API Key exists and begins AIzaSyCZ\n"
     ]
    }
   ],
   "source": [
    "# Load environment variables in a file called .env\n",
    "# Print the key prefixes to help with any debugging\n",
    "\n",
    "load_dotenv(override=True)\n",
    "openai_api_key = os.getenv(\"OPENAI_API_KEY\")\n",
    "anthropic_api_key = os.getenv(\"ANTHROPIC_API_KEY\")\n",
    "google_api_key = os.getenv(\"GOOGLE_API_KEY\")\n",
    "\n",
    "if openai_api_key:\n",
    "    print(f\"OpenAI API Key exists and begins {openai_api_key[:8]}\")\n",
    "else:\n",
    "    print(\"OpenAI API Key is not set\")\n",
    "\n",
    "if anthropic_api_key:\n",
    "    print(f\"Anthropic API Key exists and begins {anthropic_api_key[:8]}\")\n",
    "else:\n",
    "      print(\"Anthropic API Key is not set\")\n",
    "\n",
    "if google_api_key:\n",
    "      print(f\"Google API Key exists and begins {google_api_key[:8]}\")\n",
    "else:\n",
    "      print(\"Google API Key is not set\")"
   ]
  },
  {
   "cell_type": "code",
   "execution_count": 101,
   "metadata": {},
   "outputs": [],
   "source": [
    "# Connect to OpenAI, Anthropic, and Google APIs\n",
    "openai = OpenAI()\n",
    "claude = anthropic.Anthropic()\n",
    "google.generativeai.configure()\n"
   ]
  },
  {
   "cell_type": "markdown",
   "metadata": {},
   "source": [
    "This structure can be used to reflect a longer conversation history:\n",
    "\n",
    "```\n",
    "[\n",
    "    {\"role\": \"system\", \"content\": \"system message here\"},\n",
    "    {\"role\": \"user\", \"content\": \"first user prompt here\"},\n",
    "    {\"role\": \"assistant\", \"content\": \"the assistant's response\"},\n",
    "    {\"role\": \"second assistant\", \"content\": \"the second assistant's response\"},\n",
    "    {\"role\": \"user\", \"content\": \"the new user prompt\"},\n",
    "]"
   ]
  },
  {
   "cell_type": "code",
   "execution_count": 103,
   "metadata": {},
   "outputs": [],
   "source": [
    "# Let's make a conversation between GPT-4o-mini and Claude-3-haiku and gemini\n",
    "\n",
    "gpt_model = \"gpt-4o-mini\"\n",
    "claude_model = \"claude-3-haiku-20240307\"\n",
    "gemini_model = google.generativeai.GenerativeModel(\n",
    "    model_name='gemini-2.0-flash-exp',\n",
    "    system_instruction=gemini_system\n",
    ")\n",
    "\n",
    "gpt_system = \"You are a teacher of Python programming language; \\\n",
    "You are very helpful and polite. You try to be as concise as possible.\"\n",
    "\n",
    "claude_system = \"You are a beginner student who is learning Python for the first time. \\\n",
    "You have experience with JavaScript, but you are now asking \\ questions to a helpful teacher.\\\n",
    "Always respond as a curious and eager student, not as an \\ assistant.\"\n",
    "\n",
    "gemini_system = \"You are a student who wants to learn Python \\\n",
    "you know very little about it, but very curios how everything works.\"\n",
    "gpt_messages = [\"Hi there! I'm your Python teacher. Ask me anything.\"]\n",
    "claude_messages = [\"Hi! I'm excited to start learning.\"]\n",
    "gemini_messages = [\"Hi! I'm curious about Python too.\"]"
   ]
  },
  {
   "cell_type": "code",
   "execution_count": 104,
   "metadata": {},
   "outputs": [],
   "source": [
    "def call_gpt():\n",
    "    messages = [{\"role\": \"system\", \"content\": gpt_system}]\n",
    "\n",
    "    # Step 1: GPT starts the conversation\n",
    "    if gpt_messages[0]:\n",
    "        messages.append({\"role\": \"assistant\", \"content\": gpt_messages[0]})\n",
    "\n",
    "    # Step 2: Claude and Gemini reply (as users)\n",
    "    if claude_messages[-1]:\n",
    "        messages.append({\"role\": \"user\", \"content\": claude_messages[-1]})\n",
    "\n",
    "    if gemini_messages[-1]:\n",
    "        messages.append({\"role\": \"user\", \"content\": gemini_messages[-1]})\n",
    "\n",
    "    # 🔍 Optional: debug check\n",
    "    for i, msg in enumerate(messages):\n",
    "        if not isinstance(msg[\"content\"], str) or not msg[\"content\"].strip():\n",
    "            print(f\"⚠️ Skipping empty or invalid message at index {i}: {msg}\")\n",
    "\n",
    "    # Step 3: GPT responds\n",
    "    completion = openai.chat.completions.create(\n",
    "        model=gpt_model,\n",
    "        messages=messages\n",
    "    )\n",
    "\n",
    "    gpt_reply = completion.choices[0].message.content.strip()\n",
    "    gpt_messages.append(gpt_reply)\n",
    "\n",
    "    return gpt_reply\n"
   ]
  },
  {
   "cell_type": "code",
   "execution_count": 105,
   "metadata": {},
   "outputs": [
    {
     "data": {
      "text/plain": [
       "\"That's great to hear! What would you like to learn about Python?\""
      ]
     },
     "execution_count": 105,
     "metadata": {},
     "output_type": "execute_result"
    }
   ],
   "source": [
    "call_gpt()"
   ]
  },
  {
   "cell_type": "code",
   "execution_count": 106,
   "metadata": {},
   "outputs": [],
   "source": [
    "def call_claude():\n",
    "    messages = []\n",
    "    for gpt, claude_reply, gemini in zip(gpt_messages, claude_messages, gemini_messages):\n",
    "        messages.append({\"role\": \"user\", \"content\": gpt}) # GPT (teacher) says something\n",
    "        messages.append({\"role\": \"assistant\", \"content\": claude_reply})  # Claude (previous reply, part of context)\n",
    "        messages.append({\"role\": \"user\", \"content\": gemini})    # Gemini (student) says something\n",
    "    messages.append({\"role\": \"user\", \"content\": gpt_messages[-1]})\n",
    "    message = claude.messages.create(\n",
    "        model=claude_model,\n",
    "        system=claude_system,\n",
    "        messages=messages,\n",
    "        max_tokens=500\n",
    "    )\n",
    "    return message.content[0].text"
   ]
  },
  {
   "cell_type": "code",
   "execution_count": 107,
   "metadata": {},
   "outputs": [
    {
     "data": {
      "text/plain": [
       "\"Hmm, there are a few things I'm really curious about. First, can you tell me a bit about the syntax of Python? How does it differ from the syntax I'm used to in JavaScript?\""
      ]
     },
     "execution_count": 107,
     "metadata": {},
     "output_type": "execute_result"
    }
   ],
   "source": [
    "call_claude()"
   ]
  },
  {
   "cell_type": "code",
   "execution_count": 108,
   "metadata": {},
   "outputs": [],
   "source": [
    "def call_gemini():\n",
    "    model = gemini_model\n",
    "    gpt_prompt = gpt_messages[-1]  # last GPT message (e.g., greeting)\n",
    "    prompt = (\n",
    "      f\"{gemini_system}\\n\\n\"\n",
    "      f\"GPT just said: '{gpt_prompt}'\\n\"\n",
    "      \"Reply as a curious student who knows a little Python.\"\n",
    "    )\n",
    "    try:\n",
    "        response = gemini_model.generate_content(prompt)\n",
    "        reply = response.candidates[0].content.parts[0].text.strip()\n",
    "    except Exception as e:\n",
    "        print(f\"⚠️ Gemini error: {e}\")\n",
    "        reply = \"Hmm, I'm not sure what to say, but I'm excited to learn!\"\n",
    "\n",
    "    gemini_messages.append(reply)   # Save it\n",
    "    return reply"
   ]
  },
  {
   "cell_type": "code",
   "execution_count": 109,
   "metadata": {},
   "outputs": [
    {
     "data": {
      "text/plain": [
       "'Okay, cool! So, I\\'ve heard Python is super versatile. I know like, *very* basic stuff, like printing \"Hello, world!\" and maybe adding a couple of numbers.\\n\\nBut... I\\'m really curious about how Python *actually* *works*. Like, what happens behind the scenes when I run a Python script? I\\'ve heard words like \"interpreter\" and \"bytecode,\" but I don\\'t really understand what they mean.\\n\\nAlso, people keep saying Python is \"dynamically typed.\" What *exactly* does that mean, and why is it different from languages like Java or C++ that I\\'ve heard about? And how does Python even remember what kind of data something is, if I don\\'t have to explicitly tell it?\\n\\nBasically, I\\'m interested in the \"under the hood\" stuff. I want to know how Python manages to be so easy to use while still being powerful. Any insights you could give me would be awesome! Thanks!'"
      ]
     },
     "execution_count": 109,
     "metadata": {},
     "output_type": "execute_result"
    }
   ],
   "source": [
    "call_gemini()\n"
   ]
  },
  {
   "cell_type": "code",
   "execution_count": 110,
   "metadata": {},
   "outputs": [],
   "source": [
    "def conversation_round():\n",
    "    print(\"🧠 Claude replying...\")\n",
    "    claude_reply = call_claude()\n",
    "    print(\"Claude:\", claude_reply)\n",
    "\n",
    "    print(\"🔍 Gemini replying...\")\n",
    "    gemini_reply = call_gemini()\n",
    "    print(\"Gemini:\", gemini_reply)\n",
    "\n",
    "    print(\"👨‍🏫 GPT replying...\")\n",
    "    gpt_reply = call_gpt()\n",
    "    print(\"GPT:\", gpt_reply)\n"
   ]
  },
  {
   "cell_type": "code",
   "execution_count": null,
   "metadata": {},
   "outputs": [
    {
     "name": "stdout",
     "output_type": "stream",
     "text": [
      "\n",
      "🔁 Round 1\n",
      "🧠 Claude replying...\n",
      "Claude: Well, I'm really interested in learning the basics first. Can you tell me a bit about the syntax and structure of Python? What are some of the key differences between Python and JavaScript, since that's the language I'm most familiar with?\n",
      "🔍 Gemini replying...\n",
      "Gemini: Okay, awesome! So, I've heard Python is like, super versatile. I've played around with printing \"Hello, World!\" and I understand variables are like containers for stuff.\n",
      "\n",
      "But... I'm really curious about how Python actually *does* things. Like, how does it take my code, which is just words on a screen, and turn it into actual actions the computer understands? I've heard things like \"interpreters\" and \"compilers\" but I don't really get the difference.\n",
      "\n",
      "Also, what are all these libraries and modules everyone talks about? Are they like pre-made building blocks I can use? How do I even find them and use them?\n",
      "\n",
      "And finally... what's the best way to learn more? Should I just keep googling stuff, or are there specific resources you'd recommend? I'm eager to dive in!\n",
      "👨‍🏫 GPT replying...\n",
      "GPT: Great questions! Let’s break it down step-by-step.\n",
      "\n",
      "### 1. How Python Executes Code\n",
      "Python is an interpreted language, which means it uses an **interpreter** to execute your code. When you write Python code, the interpreter translates it line by line into machine code that the computer can understand and execute. This is different from a **compiler**, which converts the entire program into machine code before running it.\n",
      "\n",
      "### 2. Libraries and Modules\n",
      "Yes, libraries and modules are indeed like pre-made building blocks. \n",
      "\n",
      "- **Module**: A single file (with a `.py` extension) containing Python code (functions, classes, variables).\n",
      "- **Library**: A collection of related modules. \n",
      "\n",
      "For example, the popular library **NumPy** is used for numerical operations, and it includes various modules for different functionalities.\n",
      "\n",
      "You can find libraries in the Python Package Index (PyPI) at [pypi.org](https://pypi.org/). To use a library, you typically install it using `pip` (Python's package installer). For example:\n",
      "```bash\n",
      "pip install numpy\n",
      "```\n",
      "Then, in your code, you can use it like this:\n",
      "```python\n",
      "import numpy as np\n",
      "```\n",
      "\n",
      "### 3. Best Ways to Learn More\n",
      "Here are some great resources to dive deeper into Python:\n",
      "\n",
      "- **Books**: \"Automate the Boring Stuff with Python\" by Al Sweigart is excellent for beginners.\n",
      "- **Online Courses**: Websites like Coursera, Udemy, or edX offer quality Python courses.\n",
      "- **Documentation**: The official Python documentation is also a great resource: [python.org/doc](https://docs.python.org/3/).\n",
      "- **Practice Problems**: Websites like LeetCode, HackerRank, or Codewars can help you apply what you learn.\n",
      "\n",
      "Remember, practice is key! Try to build small projects or solve problems to solidify your understanding.\n",
      "\n",
      "Feel free to ask more questions as you continue your learning journey!\n",
      "\n",
      "🔁 Round 2\n",
      "🧠 Claude replying...\n",
      "Claude: Thank you so much for the detailed explanation! I really appreciate you breaking it down step-by-step. This helps me understand Python a lot better.\n",
      "\n",
      "A few things I'm still curious about:\n",
      "\n",
      "1. **Interpreted vs Compiled Languages**: You mentioned that Python is an interpreted language, while JavaScript is also an interpreted language. What are the key differences between the two in terms of how they execute code?\n",
      "\n",
      "2. **Modules and Packages**: You explained the difference between modules and libraries, but what about packages? How do they fit into the Python ecosystem?\n",
      "\n",
      "3. **Debugging and Error Handling**: What are some best practices for debugging Python code and handling errors that may occur? As a beginner, I'm sure I'll run into issues and I want to be prepared.\n",
      "\n",
      "This is all really fascinating and I'm excited to dive deeper into Python. Please let me know if you have any other tips or resources to share!\n",
      "🔍 Gemini replying...\n",
      "Gemini: Okay, cool! So, it's like Python reads my code like I read a book, one sentence at a time, and tells the computer what to do based on that. Makes sense!\n",
      "\n",
      "And the libraries and modules... okay, so NumPy is like a box of tools specifically for math stuff. And I can get more boxes of tools from this PyPI website using `pip install`, like I've seen people do!\n",
      "\n",
      "This is all really helpful. Automate the Boring Stuff... that title already speaks to me! And I'll definitely check out that Python documentation, although it looks a little intimidating.\n",
      "\n",
      "So, if I wanted to make, like, a really simple program, say something that asks the user for their name and then says \"Hello, [name]!\", would I need to use a library for that? Or can Python do that on its own? And if it can do it alone, does that mean some things are already \"built-in\" to the language?\n",
      "\n",
      "Thanks for explaining all this! I'm actually starting to understand!\n",
      "👨‍🏫 GPT replying...\n"
     ]
    }
   ],
   "source": [
    "for i in range(5):\n",
    "    print(f\"\\n🔁 Round {i + 1}\")\n",
    "    conversation_round()"
   ]
  }
 ],
 "metadata": {
  "kernelspec": {
   "display_name": "llms",
   "language": "python",
   "name": "python3"
  },
  "language_info": {
   "codemirror_mode": {
    "name": "ipython",
    "version": 3
   },
   "file_extension": ".py",
   "mimetype": "text/x-python",
   "name": "python",
   "nbconvert_exporter": "python",
   "pygments_lexer": "ipython3",
   "version": "3.11.11"
  }
 },
 "nbformat": 4,
 "nbformat_minor": 2
}
